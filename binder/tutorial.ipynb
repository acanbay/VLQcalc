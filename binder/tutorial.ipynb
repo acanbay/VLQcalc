{
 "cells": [
  {
   "attachments": {},
   "cell_type": "markdown",
   "id": "97640809-3eb6-497c-bc3a-9b1541605d5a",
   "metadata": {},
   "source": [
    "# VLQcalc: a Python Module for Calculating Vector-like Quark Couplings\n",
    "**Ali Can Canbay**\n",
    "<a href=\"https://orcid.org/0000-0003-4602-473X\">\n",
    "  <img src=\"https://orcid.org/assets/vectors/orcid.logo.icon.svg\" alt=\"Ali Can Canbay ORCID\" width=\"15\">\n",
    "</a>\n",
    ", **Orhan Cakir**\n",
    "<a href=\"https://orcid.org/0000-0002-9016-138X\">\n",
    "  <img src=\"https://orcid.org/assets/vectors/orcid.logo.icon.svg\" alt=\"Orhan Cakir ORCID\" width=\"15\">\n",
    "</a>\n",
    "\n",
    "Ankara University Department of Physics\n",
    "___\n",
    "### Summary\n",
    "We present a python module named VLQcalc which can be used for employing coupling parameters of vector-like quarks (VLQs) within model framework. It facilitates the conversion of couplings between different parametrization of VLQ models and computes these couplings depending on the width-to-mass ratio ($\\Gamma/m$), with given branchings. By utilizing a modified version of Genetic Algorithm (mGA) for coupling constant computations it provides parameter-dependent results. This innovative algorithm allows for swift and precise determination of correlated coupling constants with choosen branching ratios for different representations. In addition, VLQcalc can generate input cards for MadGraph5 (MG5) for event generation. The module's capability to efficiently manage the process from calculating coupling constants to prepare MG5 input card will accelerate the tasks in the new studies.\n",
    "\n",
    "<br>\n",
    "\n",
    "### VLQ models and their Lagrangians\n",
    "\n",
    "**VLQ_UFO$^{[1]}$ Lagrangian:**\n",
    "\n",
    "\\begin{equation}\n",
    "\\begin{split}\n",
    "     \\mathcal{L} & = \\kappa_{T}\\Biggl\\{\n",
    "        \\sqrt{\\frac{\\zeta_{i}\\xi_{W}^{T}}{\\Gamma_{W}^{0}}}\\frac{g}{\\sqrt{2}}\\Bigl[\\overline{T}_{L/R}W_{\\mu}^{+}\\gamma^{\\mu}d_{L/R}^{i}\\Bigl]+\n",
    "        \\sqrt{\\frac{\\zeta_{i}\\xi_{Z}^{T}}{\\Gamma_{Z}^{0}}}\\frac{g}{2c_{W}}\\Bigl[\\overline{T}_{L/R}Z_{\\mu}\\gamma^{\\mu}u_{L/R}^{i}\\Bigl]-\n",
    "        \\sqrt{\\frac{\\zeta_{i}\\xi_{H}^{T}}{\\Gamma_{H}^{0}}}\\frac{m_{T}}{v}\\Bigl[\\overline{T}_{L/R}H_{\\mu}\\gamma^{\\mu}u_{L/R}^{i}\\Bigl]\\Biggl\\} \\\\\n",
    "        & +\\kappa_{B}\\Biggl\\{\n",
    "        \\sqrt{\\frac{\\zeta_{i}\\xi_{W}^{B}}{\\Gamma_{W}^{0}}}\\frac{g}{\\sqrt{2}}\\Bigl[\\overline{B}_{L/R}W_{\\mu}^{-}\\gamma^{\\mu}u_{L/R}^{i}\\Bigl]+\n",
    "        \\sqrt{\\frac{\\zeta_{i}\\xi_{Z}^{B}}{\\Gamma_{Z}^{0}}}\\frac{g}{2c_{W}}\\Bigl[\\overline{B}_{L/R}Z_{\\mu}\\gamma^{\\mu}d_{L/R}^{i}\\Bigl]-\n",
    "        \\sqrt{\\frac{\\zeta_{i}\\xi_{H}^{B}}{\\Gamma_{H}^{0}}}\\frac{m_{B}}{v}\\Bigl[\\overline{B}_{L/R}H_{\\mu}\\gamma^{\\mu}d_{L/R}^{i}\\Bigl]\\Biggl\\} \\\\\n",
    "        & +\\kappa_{X}\\Biggl\\{\\sqrt{\\frac{\\zeta_{i}}{\\Gamma_{W}^{0}}}\\frac{g}{\\sqrt{2}}\n",
    "        \\Bigl[\\overline{X}_{L/R}W_{\\mu}^{+}\\gamma^{\\mu}u_{L/R}^{i}\\Bigl]\\Biggl\\}\n",
    "        +\\kappa_{Y}\\Biggl\\{\\sqrt{\\frac{\\zeta_{i}}{\\Gamma_{W}^{0}}}\\frac{g}{\\sqrt{2}}\n",
    "        \\Bigl[\\overline{Y}_{L/R}W_{\\mu}^{-}\\gamma^{\\mu}d_{L/R}^{i}\\Bigl]\\Biggl\\}+h.c.\n",
    "\\end{split}\n",
    "\\end{equation}\n",
    "\n",
    "<br>\n",
    "\n",
    "**VLQ_v4_UFO$^{[2]}$ Lagrangian:**\n",
    "\n",
    "\\begin{equation}\n",
    "\\begin{split}\n",
    "\\mathcal{L} & = i\\overline{Y}D\\!\\!\\!\\!/Y-m_{Y}\\overline{Y}Y\n",
    "    +i\\overline{B}D\\!\\!\\!\\!/B-m_{B}\\overline{B}B\n",
    "    +i\\overline{T}D\\!\\!\\!\\!/T-m_{T}\\overline{T}T\n",
    "    +i\\overline{X}D\\!\\!\\!\\!/X-m_{X}\\overline{X} \\\\\n",
    "    & -H\\Bigl[\\overline{B}(\\hat{\\kappa}_L^{B}P_{L}+\\hat{\\kappa}_R^{B}P_{R})d+h.c.\\Bigl]\n",
    "    -H\\Bigl[\\overline{T}(\\hat{\\kappa}_L^{T}P_{L}+\\hat{\\kappa}_R^{T}P_{R})u+h.c.\\Bigl] \\\\\n",
    "    & +\\frac{g}{2c_{W}}\\Bigl[\\overline{B}Z\\!\\!\\!/(\\tilde{\\kappa}_L^{B}P_{L}+\\tilde{\\kappa}_R^{B}P_{R})d+h.c.\\Bigl] \\\\\n",
    "    & +\\frac{g}{2c_{W}}\\Bigl[\\overline{T}Z\\!\\!\\!/(\\tilde{\\kappa}_L^{T}P_{L}+\\tilde{\\kappa}_R^{T}P_{R})u+h.c.\\Bigl] \\\\\n",
    "    & +\\frac{\\sqrt{2}g}{2}\\Bigl[\\overline{Y}W\\!\\!\\!\\!\\!/(\\kappa_L^{Y}P_{L}+\\kappa_R^{Y}P_{R})d+h.c.\\Bigl] \\\\\n",
    "    & +\\frac{\\sqrt{2}g}{2}\\Bigl[\\overline{B}W\\!\\!\\!\\!\\!/(\\kappa_L^{B}P_{L}+\\kappa_R^{B}P_{R})u+h.c.\\Bigl] \\\\\n",
    "    & +\\frac{\\sqrt{2}g}{2}\\Bigl[\\overline{T}W\\!\\!\\!\\!\\!/(\\kappa_L^{T}P_{L}+\\kappa_R^{T}P_{R})d+h.c.\\Bigl] \\\\\n",
    "    & +\\frac{\\sqrt{2}g}{2}\\Bigl[\\overline{X}W\\!\\!\\!\\!\\!/(\\kappa_L^{X}P_{L}+\\kappa_R^{X}P_{R})u+h.c.\\Bigl]\n",
    "\\end{split}\n",
    "\\end{equation}\n",
    "\n",
    "<br>\n",
    "\n",
    "The couplings of VLQs with the 3rd SM family are more dominant compared to others, so the module only considers interactions with the 3rd family quarks.\n",
    "\n",
    "$\\kappa_{H}^{Q}=\\hat{\\kappa}^{Q}$, &emsp; $\\kappa_{W}^{Q}=\\kappa^{Q}$ &emsp; and &emsp; $\\kappa_{Z}^{Q}=\\tilde{\\kappa}^{Q}$\n"
   ]
  },
  {
   "cell_type": "code",
   "execution_count": 1,
   "id": "524bca70-2ef4-48d6-8618-473ba4d9c77e",
   "metadata": {},
   "outputs": [],
   "source": [
    "# Required lines to make the module directory the default directory:\n",
    "import sys\n",
    "sys.path.append('../')"
   ]
  },
  {
   "cell_type": "markdown",
   "id": "e204d15e-888b-4bfd-a08b-1d5ad30e72f0",
   "metadata": {},
   "source": [
    "___\n",
    "### VLQ object\n",
    "\n",
    "To perform calculations related to VLQs, initially a new object of the VLQ class from the sub-module named `model` is created."
   ]
  },
  {
   "cell_type": "code",
   "execution_count": 2,
   "id": "aa070313-4ad1-4e6f-92ad-f9ac782c9bb0",
   "metadata": {},
   "outputs": [],
   "source": [
    "import VLQcalc.model as model"
   ]
  },
  {
   "cell_type": "markdown",
   "id": "66daedd7-5c3d-4540-a40d-94e6ff21295e",
   "metadata": {},
   "source": [
    "```python\n",
    "vlq = model.VLQ( VLQ_type, FNS, LR )\n",
    "```\n",
    "\n",
    "| Parameter | Format | Values | Default Value |\n",
    "|-|-|:-:|:-:|\n",
    "|VLQ_type|string|X, T, B, Y|-|\n",
    "|FNS|integer|4, 5|4|\n",
    "|LR|bool|True, False|False|\n",
    "\n",
    "* $m_{b}=0$ when `FNS=5`\n",
    "* ```LR=False``` allows calculations with only left-handed couplings, while ```LR=True``` allows calculations with both left and right-handed couplings."
   ]
  },
  {
   "cell_type": "code",
   "execution_count": 3,
   "id": "251fcb72-8705-4218-9a6c-af1c73cc598c",
   "metadata": {},
   "outputs": [],
   "source": [
    "vlq = model.VLQ('B')\n",
    "#vlq = model.VLQ('B', 5, False)"
   ]
  },
  {
   "cell_type": "markdown",
   "id": "82175082-95a1-4e39-a51c-81723c8fed19",
   "metadata": {},
   "source": [
    "<br>\n",
    "\n",
    "#### `setMass` method:\n",
    "The mass is passed to the method as a single value or a list of values in integer or float format in GeV unit.\n"
   ]
  },
  {
   "cell_type": "code",
   "execution_count": 4,
   "id": "ef1176b5-0abe-4deb-925b-06d5af2a9263",
   "metadata": {},
   "outputs": [],
   "source": [
    "#Mass = 1000 # GeV\n",
    "Mass = [1000, 1500, 2000] # A list consisting of masses, each in GeV units.\n",
    "vlq.setMass(Mass)"
   ]
  },
  {
   "cell_type": "markdown",
   "id": "b1c4d606-bc78-46e9-98e0-ec7a9085d339",
   "metadata": {},
   "source": [
    "<br>\n",
    "\n",
    "#### `convertModel` method:\n",
    "It converts the couplings in VLQ_UFO and VLQ_v4_UFO models to each other.\n",
    "\n",
    "```python\n",
    "vlq.convertModel( Kappas, BRs, reverse )\n",
    "```\n",
    "\n",
    "| Parameter | Format | Values | Default Value |\n",
    "|-|-|:-:|:-:|\n",
    "|Kappas|float/integer or list|any|-|\n",
    "|BRs|float/integer or list|any|1|\n",
    "|reverse|bool|True, False|False|\n",
    "\n",
    "* `Kappas` is\n",
    "    * $\\kappa_Q$ where Q is X, T, B or Y for converting couplings from VLQ_UFO to VLQ_v4_UFO.\n",
    "    * given in the list as [$\\kappa_H, \\kappa_W, \\kappa_Z$] for T and B, while it is only $\\kappa_W$ for X and Y when converting couplings from VLQ_v4_UFO to VLQ_UFO.\n",
    "* For T and B, the parameter named `BRs` is given in the list as [BR(Q→Hq), BR(Q→Wq), BR(Q→Zq)] where q represents the 3rd family quarks of the Standard Model. Only BR(Q→Wq) is specified for X and Y.\n",
    "* When the `reverse` value is `False`, the conversion is from VLQ_UFO to VLQ_v4_UFO; when `True`, it is from VLQ_v4_UFO to VLQ_UFO."
   ]
  },
  {
   "cell_type": "code",
   "execution_count": 5,
   "id": "f0c8301a-f98a-4c40-89fb-0e040cd58845",
   "metadata": {},
   "outputs": [
    {
     "name": "stdout",
     "output_type": "stream",
     "text": [
      "\n",
      "VLQ_v4_UFO:\n",
      "mB [GeV]\tkH\tkW\tkZ\n",
      "  1000\t\t1.45\t0.35\t0.35\n",
      "  1500\t\t2.16\t0.35\t0.35\n",
      "  2000\t\t2.87\t0.35\t0.35\n"
     ]
    }
   ],
   "source": [
    "branchings = [0.25,0.5,0.25] # [BR(Hq),BR(Wq),BR(Zq)]\n",
    "kB = 0.5\n",
    "vlq.convertModel(kB, branchings)  # converts kappa from VLQ_UFO to VLQ_v4_UFO\n",
    "\n",
    "print('\\nVLQ_v4_UFO:')\n",
    "print('mB [GeV]\\tkH\\tkW\\tkZ')\n",
    "for i in range(len(Mass)):\n",
    "    M = Mass[i]\n",
    "    kH = round(vlq.KappaH[i], 2)\n",
    "    kW = round(vlq.KappaW[i], 2)\n",
    "    kZ = round(vlq.KappaZ[i], 2)\n",
    "    print(f'  {M}\\t\\t{kH}\\t{kW}\\t{kZ}')"
   ]
  },
  {
   "cell_type": "code",
   "execution_count": 6,
   "id": "68c4a2f7-1ed5-49b5-bac5-12c194acaa31",
   "metadata": {},
   "outputs": [
    {
     "name": "stdout",
     "output_type": "stream",
     "text": [
      "\n",
      "Warning !\n",
      "Deleting old kappa values for kB\n",
      "\n",
      "VLQ_UFO:\n",
      "mB [GeV]\tkB\n",
      "  1000\t\t0.5\n",
      "  1500\t\t0.5\n",
      "  2000\t\t0.5\n"
     ]
    }
   ],
   "source": [
    "newKappas = [vlq.KappaH, vlq.KappaW, vlq.KappaZ]\n",
    "vlq.convertModel(newKappas, branchings, True)  # converts kappas from VLQ_v4_UFO to VLQ_UFO\n",
    "\n",
    "print('VLQ_UFO:')\n",
    "print('mB [GeV]\\tkB')\n",
    "for i in range(len(Mass)):\n",
    "    M = Mass[i]\n",
    "    kB = round(vlq.KappaOld[i], 2)\n",
    "    print(f'  {M}\\t\\t{kB}')"
   ]
  },
  {
   "cell_type": "markdown",
   "id": "54ca30d8-1b09-420e-896a-fb699c561f95",
   "metadata": {},
   "source": [
    "<br>\n",
    "\n",
    "#### `calcDecay` method:\n",
    "*It only works with the **VLQ_v4_UFO** model. Converted couplings can be used for VLQ_UFO model.*\n",
    "<br><br>\n",
    "\n",
    "For T and B:\n",
    "```python\n",
    "decayH, decayW, decayZ, Gamma = vlq.calcDecay( Mass, Kappas, LR )\n",
    "```\n",
    "For X and Y:\n",
    "```python\n",
    "decayW = vlq.calcDecay( Mass, Kappa, LR )\n",
    "```\n",
    "\n",
    "| Parameter | Format | Values | Default Value |\n",
    "|-|-|:-:|:-:|\n",
    "|Mass|float/integer or list|any|-|\n",
    "|Kappas|list|any|-|\n",
    "|Kappa|float/integer|any|-|\n",
    "|LR|bool|True, False|False|\n",
    "\n",
    "<br>"
   ]
  },
  {
   "cell_type": "code",
   "execution_count": 7,
   "id": "500dfda5-73ed-4b84-b10f-2baa023e50d6",
   "metadata": {},
   "outputs": [
    {
     "name": "stdout",
     "output_type": "stream",
     "text": [
      "\n",
      "mB [GeV]\tGamma [GeV]\tBR(Hb)\tBR(Wt)\tBR(Zb)\n",
      "  1000\t\t138.08\t\t0.57\t0.27\t0.15\n",
      "  1500\t\t326.0\t\t0.37\t0.41\t0.22\n",
      "  2000\t\t653.74\t\t0.25\t0.5\t0.25\n",
      "\n"
     ]
    }
   ],
   "source": [
    "kappas = [2.87, 0.35, 0.35]\n",
    "\n",
    "print('\\nmB [GeV]\\tGamma [GeV]\\tBR(Hb)\\tBR(Wt)\\tBR(Zb)')\n",
    "for mass in range(1000, 2100, 500):\n",
    "    decayH, decayW, decayZ, Gamma = vlq.calcDecay(mass, kappas)\n",
    "    BRH = round(decayH/Gamma, 2)\n",
    "    BRW = round(decayW/Gamma, 2)\n",
    "    BRZ = round(decayZ/Gamma, 2)\n",
    "    Gamma = round(Gamma, 2)\n",
    "    print(f'  {mass}\\t\\t{Gamma}\\t\\t{BRH}\\t{BRW}\\t{BRZ}')\n",
    "print()"
   ]
  },
  {
   "cell_type": "markdown",
   "id": "84efaf0c-a2a6-4ccc-b752-e373fb4d6a48",
   "metadata": {},
   "source": [
    "#### `calcRatioKappas` method:\n",
    "It is used to calculate the couplings according to the $\\Gamma_Q/m_Q$ ratio.<br>\n",
    "*It only works with the **VLQ_v4_UFO** model. Couplings can be converted to VLQ_UFO model after calculations are made according to this model.*\n",
    "\n",
    "```python\n",
    "vlq.calcRatioKappas( BRs, Ratio )\n",
    "```\n",
    "\n",
    "* Ratio is $\\Gamma_Q/m_Q$ value."
   ]
  },
  {
   "cell_type": "code",
   "execution_count": 8,
   "id": "d97fe1dc-2b0c-4417-a07e-928841258b2e",
   "metadata": {},
   "outputs": [
    {
     "name": "stdout",
     "output_type": "stream",
     "text": [
      "\n",
      "mT [GeV]\tkH\tkW\tkZ\n",
      "  1000\t\t1.612\t0.384\t0.402\n",
      "  1200\t\t1.603\t0.32\t0.33\n",
      "  1400\t\t1.598\t0.274\t0.281\n",
      "  1600\t\t1.595\t0.24\t0.244\n",
      "  1800\t\t1.593\t0.213\t0.216\n",
      "  2000\t\t1.592\t0.192\t0.194\n",
      "\n"
     ]
    }
   ],
   "source": [
    "Mass = range(1000, 2001, 200)\n",
    "branchings = [0.25, 0.5, 0.25] # [BR(Hb),BR(Wt),BR(Zb)]\n",
    "GM = 0.1 # Gamma/Mass ratio\n",
    "\n",
    "vlq = model.VLQ('T')\n",
    "vlq.setMass(Mass)\n",
    "vlq.calcRatioKappas(branchings, GM)\n",
    "\n",
    "print('\\nmT [GeV]\\tkH\\tkW\\tkZ')\n",
    "for i in range(len(Mass)):\n",
    "    M = Mass[i]\n",
    "    kH = round(vlq.KappaH[i], 3)\n",
    "    kW = round(vlq.KappaW[i], 3)\n",
    "    kZ = round(vlq.KappaZ[i], 3)\n",
    "    print(f'  {M}\\t\\t{kH}\\t{kW}\\t{kZ}')\n",
    "print()"
   ]
  },
  {
   "cell_type": "code",
   "execution_count": 9,
   "id": "e4713b95-199e-4f72-b0a3-d64e79ef150b",
   "metadata": {},
   "outputs": [
    {
     "name": "stdout",
     "output_type": "stream",
     "text": [
      "\n",
      "mT [GeV]\tGamma [GeV]\tBR(Hb)\tBR(Wt)\tBR(Zb)\n",
      "  1000\t\t100.0\t\t0.25\t0.5\t0.25\n",
      "  1200\t\t120.0\t\t0.25\t0.5\t0.25\n",
      "  1400\t\t140.0\t\t0.25\t0.5\t0.25\n",
      "  1600\t\t160.0\t\t0.25\t0.5\t0.25\n",
      "  1800\t\t180.0\t\t0.25\t0.5\t0.25\n",
      "  2000\t\t200.0\t\t0.25\t0.5\t0.25\n"
     ]
    }
   ],
   "source": [
    "print('\\nmT [GeV]\\tGamma [GeV]\\tBR(Hb)\\tBR(Wt)\\tBR(Zb)')\n",
    "for i in range(len(Mass)):\n",
    "    kappas = [vlq.KappaH[i], vlq.KappaW[i], vlq.KappaZ[i]]\n",
    "    decayH, decayW, decayZ, Gamma = vlq.calcDecay( Mass[i], kappas )\n",
    "    BRH = round(decayH/Gamma, 2)\n",
    "    BRW = round(decayW/Gamma, 2)\n",
    "    BRZ = round(decayZ/Gamma, 2)\n",
    "    Gamma = round(Gamma, 2)\n",
    "    print(f'  {Mass[i]}\\t\\t{Gamma}\\t\\t{BRH}\\t{BRW}\\t{BRZ}')\n",
    "    "
   ]
  },
  {
   "cell_type": "markdown",
   "id": "d36aa5f4-f9e9-415a-9466-a846eedbc206",
   "metadata": {},
   "source": [
    "<br>\n",
    "\n",
    "### MG5 object\n",
    "\n",
    "To generate a MadGraph5$^{[3]}$ input card, it is necessary to first create an `mg5` object from the `madgraph` sub-module."
   ]
  },
  {
   "cell_type": "code",
   "execution_count": 10,
   "id": "8a40c2ee-1aec-4c77-b702-03d441ca6ad0",
   "metadata": {},
   "outputs": [],
   "source": [
    "import VLQcalc.madgraph as madgraph"
   ]
  },
  {
   "cell_type": "markdown",
   "id": "f82f59ac-4758-4a74-8724-0170cace3663",
   "metadata": {},
   "source": [
    "```python\n",
    "mg5 = madgraph.MG5(VLQ_object, model)\n",
    "```\n",
    "* `model` parameter can be VLQ_UFO or VLQ_v4_UFO in string format."
   ]
  },
  {
   "cell_type": "code",
   "execution_count": 11,
   "id": "2ad23e0c-b434-4871-add8-3d0a4a3acad6",
   "metadata": {},
   "outputs": [],
   "source": [
    "mg5 = madgraph.MG5(vlq, 'VLQ_v4_UFO')"
   ]
  },
  {
   "cell_type": "markdown",
   "id": "c37336b8-1a4e-4c7c-9535-46a05b0cac82",
   "metadata": {},
   "source": [
    "<br>\n",
    "\n",
    "In the MG5 object, there are two different methods for entering a process: `setProcess` and `addProcess` methods, which take their parameters as strings, are used respectively to define the main process and additional processes.\n",
    "\n",
    "```python\n",
    "mg5.setProcess( process )\n",
    "mg5.addProcess( process )\n",
    "```\n",
    "\n",
    "\n",
    "MG5 object also have the properties in string format listed in the below:\n",
    "\n",
    "\n",
    "| Property | Values | Default Value |\n",
    "|-|-|:-:|\n",
    "|shower|OFF, pythia8, ...|OFF|\n",
    "|detector|OFF, Delphes, ...|OFF|\n",
    "|analysis|OFF, ExRoot, MadAnalysis, ...|OFF|\n",
    "|madspin|OFF, ON, onshell, full|OFF|\n",
    "|reweight|OFF, ON|OFF|\n",
    "\n",
    "\n",
    "<br>\n",
    "\n",
    "`addInput` method, which takes a string parameter, is used to define inputs that allow modifications to be made on simulation cards. After all definitions have been made, an MG5 input card can be generated using the `createMG5Input` method, which takes the output file name (in string format) as a parameter.\n",
    "```python\n",
    "mg5.addInput( input )\n",
    "mg5.createMG5Input( file_name )\n",
    "```\n",
    "\n",
    "<br>\n",
    "\n",
    "When creating an input card, the processes defined in `setProcess` and `addProcess` are expanded to include both particles and antiparticles. For example, when we consider $p\\ p \\rightarrow W^{+}\\ e^{-} \\bar{v}_{e}$ process, the expanded definition to be written in the input card will be as follows:\n",
    "\n",
    "    define WW = w+ w-\n",
    "    define ee = e+ e-\n",
    "    define veve = ve ve~\n",
    "    generate p p > WW ee veve\n",
    "\n",
    "This ensures the most accurate event production statistically."
   ]
  },
  {
   "cell_type": "code",
   "execution_count": 12,
   "id": "4570e4c3-5ca9-4cf6-a401-546c6b4b0fc7",
   "metadata": {},
   "outputs": [],
   "source": [
    "mg5 = madgraph.MG5(vlq,'VLQ_v4_UFO')\n",
    "\n",
    "mg5.setProcess('p p > bp j, (bp > w- t, t > w+ b)')\n",
    "mg5.addProcess('p p > bp j b, (bp > w- t, t > w+ b)')\n",
    "\n",
    "mg5.shower = 'Pythia8'\n",
    "mg5.detector = 'Delphes'\n",
    "\n",
    "mg5.addInput('Nevents 1000') # inputs for cards\n",
    "\n",
    "mg5.createMG5Input('mg5_input') # name of input file"
   ]
  },
  {
   "cell_type": "markdown",
   "id": "7429eb4b-481e-4d7b-9580-79f46243d94f",
   "metadata": {},
   "source": [
    "<br>\n",
    "\n",
    "___\n",
    "\n",
    "### References\n",
    "\n",
    "1. M. Buchkremer, G. Cacciapaglia, A. Deandrea, and L. Panizzi. Model-independent framework for searches of top partners. *Nuclear Physics B*, 876(2):376–417, 2013.\n",
    "2. B. Fuks and H. S. Shao. QCD next-to-leading-order predictions matched to parton showers for vector-like quark models. *The European Physical Journal C*, 77(2):1–21, 2017.\n",
    "3. J. Alwall, M. Herquet, F. Maltoni, O. Mattelaer, and T. Stelzer. Madgraph 5: going beyond. *Journal of High Energy Physics*, 2011(6):1–40, 2011."
   ]
  },
  {
   "cell_type": "code",
   "execution_count": null,
   "id": "614999d3-1ad4-48b2-8f93-a2e4bfb3ce66",
   "metadata": {},
   "outputs": [],
   "source": []
  }
 ],
 "metadata": {
  "kernelspec": {
   "display_name": "Python 3 (ipykernel)",
   "language": "python",
   "name": "python3"
  },
  "language_info": {
   "codemirror_mode": {
    "name": "ipython",
    "version": 3
   },
   "file_extension": ".py",
   "mimetype": "text/x-python",
   "name": "python",
   "nbconvert_exporter": "python",
   "pygments_lexer": "ipython3",
   "version": "3.9.0"
  }
 },
 "nbformat": 4,
 "nbformat_minor": 5
}
