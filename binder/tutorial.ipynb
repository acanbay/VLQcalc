{
 "cells": [
  {
   "attachments": {},
   "cell_type": "markdown",
   "id": "97640809-3eb6-497c-bc3a-9b1541605d5a",
   "metadata": {},
   "source": [
    "# VLQcalc: a Python Module for Calculating Vector-like Quark Couplings\n",
    "\n",
    "**Ali Can Canbay**<a href=\"https://orcid.org/0000-0003-4602-473X\"><img src=\"https://orcid.org/assets/vectors/orcid.logo.icon.svg\" alt=\"Ali Can Canbay ORCID\" width=\"15\"></a>\n",
    "&\n",
    "**Orhan Cakir**<a href=\"https://orcid.org/0000-0002-9016-138X\"><img src=\"https://orcid.org/assets/vectors/orcid.logo.icon.svg\" alt=\"Orhan Cakir ORCID\" width=\"15\"></a>\n",
    "\n",
    "Ankara University Department of Physics\n",
    "___\n",
    "\n",
    "VLQcalc can be used for employing coupling parameters of vector-like quarks (VLQs) within model framework. It facilitates the conversion of couplings between different parametrization of VLQ models and computes these couplings depending on the width-to-mass ratio ($\\Gamma/m$), with given branchings. By utilizing a modified version of Genetic Algorithm $^{[1]}$ (mGA) for coupling constant computations it provides parameter-dependent results. This innovative algorithm allows for swift and precise determination of correlated coupling constants with choosen branching ratios for different representations. In addition, VLQcalc can generate input cards for MadGraph5 (MG5) for event generation. The module's capability to efficiently manage the process from calculating coupling constants to prepare MG5 input card will accelerate the tasks in the new studies.\n",
    "\n",
    "<br>\n",
    "\n",
    "### VLQ models and their Lagrangians\n",
    "\n",
    "* **VLQ_UFO$^{[2]}$ Lagrangian&emsp;&emsp;:** $\\mathcal{L}\\equiv\\mathcal{L}(\\kappa_{Q},\\;\\zeta_{i,\\;L/R},\\;\\xi_{V},\\;m_{Q})$\n",
    "\n",
    "* **VLQ_v4_UFO$^{[3]}$ Lagrangian&nbsp; :** $\\mathcal{L}\\equiv\\mathcal{L}(\\kappa^{Q,\\;i}_{V,\\;L/R},\\;m_{Q})$\n",
    "\n",
    "> $\\kappa$&nbsp;&nbsp;&nbsp;: coupling<br>\n",
    "> $Q$&nbsp;&nbsp;: Vector-like quark<br>\n",
    "> $V$&nbsp;&nbsp;: H, Z, Z<br>\n",
    "> $i$&emsp;: SM family\n",
    "\n",
    "<br>\n",
    "\n",
    "The VLQcalc module only takes into account interactions with the 3rd family SM quarks, as their couplings are more dominant compared to other families ($i=3$).\n",
    "\n",
    "<br>"
   ]
  },
  {
   "cell_type": "code",
   "execution_count": 1,
   "id": "524bca70-2ef4-48d6-8618-473ba4d9c77e",
   "metadata": {},
   "outputs": [],
   "source": [
    "# Lines required to set the directory containing VLQcalc as the default directory for Binder usage:\n",
    "import sys\n",
    "sys.path.append('../')"
   ]
  },
  {
   "cell_type": "markdown",
   "id": "e204d15e-888b-4bfd-a08b-1d5ad30e72f0",
   "metadata": {},
   "source": [
    "___\n",
    "### VLQ object\n",
    "\n",
    "To perform calculations related to VLQs, initially a new object of the VLQ class from the sub-module named `model` is created."
   ]
  },
  {
   "cell_type": "code",
   "execution_count": 2,
   "id": "aa070313-4ad1-4e6f-92ad-f9ac782c9bb0",
   "metadata": {},
   "outputs": [],
   "source": [
    "import VLQcalc.model as model"
   ]
  },
  {
   "cell_type": "markdown",
   "id": "66daedd7-5c3d-4540-a40d-94e6ff21295e",
   "metadata": {},
   "source": [
    "```python\n",
    "vlq = model.VLQ( VLQ_type, FNS, LR )\n",
    "```\n",
    "\n",
    "| Parameter | Format | Values | Default Value |\n",
    "|-|-|:-:|:-:|\n",
    "|VLQ_type|string|X, T, B, Y|-|\n",
    "|FNS|integer|4, 5|4|\n",
    "|LR|bool|True, False|False|\n",
    "\n",
    "* $m_{b}=0$ when `FNS=5`\n",
    "* ```LR=False``` allows calculations with only left-handed couplings, while ```LR=True``` allows calculations with both left and right-handed couplings."
   ]
  },
  {
   "cell_type": "code",
   "execution_count": 3,
   "id": "251fcb72-8705-4218-9a6c-af1c73cc598c",
   "metadata": {},
   "outputs": [],
   "source": [
    "vlq = model.VLQ('B')\n",
    "#vlq = model.VLQ('B', 5, False)"
   ]
  },
  {
   "cell_type": "markdown",
   "id": "82175082-95a1-4e39-a51c-81723c8fed19",
   "metadata": {},
   "source": [
    "<br>\n",
    "\n",
    "#### `setMass` method:\n",
    "The mass is passed to the method as a single value or a list of values in integer or float format in GeV unit.\n"
   ]
  },
  {
   "cell_type": "code",
   "execution_count": 4,
   "id": "ef1176b5-0abe-4deb-925b-06d5af2a9263",
   "metadata": {},
   "outputs": [],
   "source": [
    "#Mass = 1000 # GeV\n",
    "Mass = [1000, 1500, 2000] # A list consisting of masses, each in GeV units.\n",
    "vlq.setMass(Mass)"
   ]
  },
  {
   "cell_type": "markdown",
   "id": "b1c4d606-bc78-46e9-98e0-ec7a9085d339",
   "metadata": {},
   "source": [
    "<br>\n",
    "\n",
    "#### `convertModel` method:\n",
    "It converts the couplings in VLQ_UFO and VLQ_v4_UFO models to each other.\n",
    "\n",
    "<br>\n",
    "\n",
    "\\begin{equation}\n",
    "    \\kappa_{W, L/R}^{Q}=\\kappa_{Q}\\sqrt{\\frac{\\zeta_{L/R}\\xi_{W}^{Q}}{\\Gamma_{W}^{0}}} \\qquad\\qquad\n",
    "    \\kappa_{Z, L/R}^{Q}=\\kappa_{Q}\\sqrt{\\frac{\\zeta_{L/R}\\xi_{Z}^{Q}}{\\Gamma_{Z}^{0}}} \\qquad\\qquad\n",
    "    \\kappa_{H, L/R}^{Q}=\\kappa_{Q}\\frac{m_{Q}}{v}\\sqrt{\\frac{\\zeta_{L/R}\\xi_{H}^{Q}}{\\Gamma_{H}^{0}}}\n",
    "\\end{equation}\n",
    "\n",
    "$$\\Gamma_{V}^{0}\\equiv\\Gamma_{V}^{0}(m_{Q},\\;m_{V},\\;m_{q})$$\n",
    "\n",
    "<br>\n",
    "\n",
    "> **$q$** : 3rd family SM quark\n",
    "\n",
    "<br>\n",
    "\n",
    "```python\n",
    "vlq.convertModel( Kappas, BRs, reverse )\n",
    "```\n",
    "\n",
    "| Parameter | Format | Values | Default Value |\n",
    "|-|-|:-:|:-:|\n",
    "|Kappas|float/integer or list|any|-|\n",
    "|BRs|float/integer or list|any|1|\n",
    "|reverse|bool|True, False|False|\n",
    "\n",
    "* `Kappas` is\n",
    "    * $\\kappa_Q$ where Q is X, T, B or Y for converting couplings from VLQ_UFO to VLQ_v4_UFO.\n",
    "    * given in the list as $[\\kappa_H, \\kappa_W, \\kappa_Z]$ for T and B, while it is only $\\kappa_W$ for X and Y when converting couplings from VLQ_v4_UFO to VLQ_UFO.\n",
    "* For T and B, the parameter named `BRs` is given in the list as [BR(Q→Hq), BR(Q→Wq), BR(Q→Zq)] where q represents the 3rd family quarks of the Standard Model. Only BR(Q→Wq) is specified for X and Y.\n",
    "* When the `reverse` value is `False`, the conversion is from VLQ_UFO to VLQ_v4_UFO; when `True`, it is from VLQ_v4_UFO to VLQ_UFO."
   ]
  },
  {
   "cell_type": "code",
   "execution_count": 5,
   "id": "f0c8301a-f98a-4c40-89fb-0e040cd58845",
   "metadata": {},
   "outputs": [
    {
     "name": "stdout",
     "output_type": "stream",
     "text": [
      "\n",
      "VLQ_v4_UFO:\n",
      "mB [GeV]\tkH\tkW\tkZ\n",
      "  1000\t\t1.45\t0.35\t0.35\n",
      "  1500\t\t2.16\t0.35\t0.35\n",
      "  2000\t\t2.87\t0.35\t0.35\n"
     ]
    }
   ],
   "source": [
    "branchings = [0.25,0.5,0.25] # [BR(Hq),BR(Wq),BR(Zq)]\n",
    "kB = 0.5\n",
    "vlq.convertModel(kB, branchings)  # converts kappa from VLQ_UFO to VLQ_v4_UFO\n",
    "\n",
    "print('\\nVLQ_v4_UFO:')\n",
    "print('mB [GeV]\\tkH\\tkW\\tkZ')\n",
    "for i in range(len(Mass)):\n",
    "    M = Mass[i]\n",
    "    kH = round(vlq.KappaH[i], 2)\n",
    "    kW = round(vlq.KappaW[i], 2)\n",
    "    kZ = round(vlq.KappaZ[i], 2)\n",
    "    print(f'  {M}\\t\\t{kH}\\t{kW}\\t{kZ}')"
   ]
  },
  {
   "cell_type": "code",
   "execution_count": 6,
   "id": "68c4a2f7-1ed5-49b5-bac5-12c194acaa31",
   "metadata": {},
   "outputs": [
    {
     "name": "stdout",
     "output_type": "stream",
     "text": [
      "\n",
      "Warning !\n",
      "Deleting old kappa values for kB\n",
      "\n",
      "VLQ_UFO:\n",
      "mB [GeV]\tkB\n",
      "  1000\t\t0.5\n",
      "  1500\t\t0.5\n",
      "  2000\t\t0.5\n"
     ]
    }
   ],
   "source": [
    "newKappas = [vlq.KappaH, vlq.KappaW, vlq.KappaZ]\n",
    "vlq.convertModel(newKappas, branchings, True)  # converts kappas from VLQ_v4_UFO to VLQ_UFO\n",
    "\n",
    "print('VLQ_UFO:')\n",
    "print('mB [GeV]\\tkB')\n",
    "for i in range(len(Mass)):\n",
    "    M = Mass[i]\n",
    "    kB = round(vlq.KappaOld[i], 2)\n",
    "    print(f'  {M}\\t\\t{kB}')"
   ]
  },
  {
   "cell_type": "code",
   "execution_count": 7,
   "id": "bf1ccc03-5ec1-46f5-b72d-efb37ebb1c02",
   "metadata": {},
   "outputs": [
    {
     "name": "stdout",
     "output_type": "stream",
     "text": [
      "\n",
      "VLQ_v4_UFO:\n",
      "mY [GeV]\tkW\n",
      "1000\t\t0.5\n",
      "1500\t\t0.5\n",
      "2000\t\t0.5\n",
      "\n",
      "Warning !\n",
      "Deleting old kappa values for kY\n",
      "\n",
      "VLQ_UFO:\n",
      "mY [GeV]\tkY\n",
      "1000\t\t0.5\n",
      "1500\t\t0.5\n",
      "2000\t\t0.5\n"
     ]
    }
   ],
   "source": [
    "# For Y quark\n",
    "Mass = [1000, 1500, 2000]\n",
    "vlq = model.VLQ('Y', FNS=5, LR=True)\n",
    "vlq.setMass(Mass)\n",
    "\n",
    "kY = 0.5\n",
    "vlq.convertModel(kY)  # converts kappa from VLQ_UFO to VLQ_v4_UFO\n",
    "\n",
    "print('\\nVLQ_v4_UFO:')\n",
    "print('mY [GeV]\\tkW')\n",
    "for i in range(len(Mass)):\n",
    "    M = Mass[i]\n",
    "    kW = round(vlq.KappaW[i], 2)\n",
    "    print(f'{M}\\t\\t{kW}')\n",
    "\n",
    "newKappas = vlq.KappaW\n",
    "vlq.convertModel(newKappas, reverse=True)  # converts kappas from VLQ_v4_UFO to VLQ_UFO\n",
    "\n",
    "print('VLQ_UFO:')\n",
    "print('mY [GeV]\\tkY')\n",
    "for i in range(len(Mass)):\n",
    "    M = Mass[i]\n",
    "    kY = round(vlq.KappaOld[i], 2)\n",
    "    print(f'{M}\\t\\t{kY}')"
   ]
  },
  {
   "cell_type": "markdown",
   "id": "54ca30d8-1b09-420e-896a-fb699c561f95",
   "metadata": {},
   "source": [
    "<br>\n",
    "\n",
    "#### `calcDecay` method:\n",
    "*It only works with the **VLQ_v4_UFO** model. Converted couplings can be used for VLQ_UFO model.*\n",
    "<br><br>\n",
    "\n",
    "For T and B:\n",
    "```python\n",
    "decayH, decayW, decayZ, Gamma = vlq.calcDecay( Mass, Kappas, LR )\n",
    "```\n",
    "For X and Y:\n",
    "```python\n",
    "decayW = vlq.calcDecay( Mass, Kappa, LR )\n",
    "```\n",
    "\n",
    "| Parameter | Format | Values | Default Value |\n",
    "|-|-|:-:|:-:|\n",
    "|Mass|float/integer or list|any|-|\n",
    "|Kappas|list|any|-|\n",
    "|Kappa|float/integer|any|-|\n",
    "|LR|bool|True, False|False|\n",
    "\n",
    "<br>"
   ]
  },
  {
   "cell_type": "code",
   "execution_count": 8,
   "id": "500dfda5-73ed-4b84-b10f-2baa023e50d6",
   "metadata": {},
   "outputs": [
    {
     "name": "stdout",
     "output_type": "stream",
     "text": [
      "\n",
      "mT [GeV]\tGamma [GeV]\tBR(Ht)\tBR(Wb)\tBR(Zt)\n",
      "1000\t\t100.011\t\t0.25\t0.5\t0.25\n",
      "1200\t\t161.189\t\t0.188\t0.536\t0.276\n",
      "1400\t\t244.618\t\t0.146\t0.561\t0.294\n",
      "1600\t\t354.031\t\t0.115\t0.579\t0.306\n",
      "1800\t\t493.154\t\t0.093\t0.591\t0.315\n",
      "2000\t\t665.709\t\t0.077\t0.601\t0.322\n"
     ]
    }
   ],
   "source": [
    "vlq = model.VLQ('T')\n",
    "kappas = [1.612, 0.384, 0.402]\n",
    "\n",
    "print('\\nmT [GeV]\\tGamma [GeV]\\tBR(Ht)\\tBR(Wb)\\tBR(Zt)')\n",
    "for mass in range(1000,2001,200):\n",
    "    decayH, decayW, decayZ, Gamma = vlq.calcDecay(mass, kappas)\n",
    "    BRH = round(decayH/Gamma, 3)\n",
    "    BRW = round(decayW/Gamma, 3)\n",
    "    BRZ = round(decayZ/Gamma, 3)\n",
    "    Gamma = round(Gamma, 3)\n",
    "    print(f'{mass}\\t\\t{Gamma}\\t\\t{BRH}\\t{BRW}\\t{BRZ}')"
   ]
  },
  {
   "attachments": {},
   "cell_type": "markdown",
   "id": "902931a0-262a-43e2-9a86-d612846e9027",
   "metadata": {},
   "source": [
    "<br><br>\n",
    "\n",
    "**VLQ_UFO** couplings can also be obtained after model conversion. "
   ]
  },
  {
   "cell_type": "code",
   "execution_count": 9,
   "id": "b7f2791c-3ae7-4207-8cfa-6dfdcea6037f",
   "metadata": {},
   "outputs": [
    {
     "name": "stdout",
     "output_type": "stream",
     "text": [
      "\n",
      "mT [GeV]\tGamma [GeV]\tBR(Ht)\tBR(Wb)\tBR(Zt)\n",
      "1000\t\t82.032\t\t0.247\t0.517\t0.236\n",
      "1200\t\t142.742\t\t0.246\t0.513\t0.241\n",
      "1400\t\t227.621\t\t0.245\t0.511\t0.244\n",
      "1600\t\t340.697\t\t0.244\t0.51\t0.246\n",
      "1800\t\t485.999\t\t0.244\t0.509\t0.247\n",
      "2000\t\t667.553\t\t0.244\t0.508\t0.248\n"
     ]
    }
   ],
   "source": [
    "Mass = range(1000, 2001, 200)\n",
    "branchings = [0.25, 0.5, 0.25] # [BR(Hb), BR(Wt), BR(Zb)]\n",
    "vlq = model.VLQ('T')\n",
    "vlq.setMass( Mass )\n",
    "\n",
    "kT = 0.5\n",
    "vlq.convertModel(kT, branchings)  # converts kappa from VLQ_UFO to VLQ_v4_UFO\n",
    "\n",
    "kappas = []\n",
    "for i in range(len(Mass)):\n",
    "    kappas.append( [vlq.KappaH[i], vlq.KappaW[i], vlq.KappaZ[i]] )\n",
    "\n",
    "print('\\nmT [GeV]\\tGamma [GeV]\\tBR(Ht)\\tBR(Wb)\\tBR(Zt)')\n",
    "for i in range(len(Mass)):\n",
    "    decayH, decayW, decayZ, Gamma = vlq.calcDecay(Mass[i], kappas[i])\n",
    "    BRH = round(decayH/Gamma, 3)\n",
    "    BRW = round(decayW/Gamma, 3)\n",
    "    BRZ = round(decayZ/Gamma, 3)\n",
    "    Gamma = round(Gamma, 3)\n",
    "    print(f'{Mass[i]}\\t\\t{Gamma}\\t\\t{BRH}\\t{BRW}\\t{BRZ}')"
   ]
  },
  {
   "cell_type": "markdown",
   "id": "84efaf0c-a2a6-4ccc-b752-e373fb4d6a48",
   "metadata": {},
   "source": [
    "<br><br>\n",
    "\n",
    "#### `calcRatioKappas` method:\n",
    "It is used to calculate the couplings according to the $\\Gamma_Q/m_Q$ ratio.<br>\n",
    "*It only works with the **VLQ_v4_UFO** model. Couplings can be converted to VLQ_UFO model after calculations are made according to this model.*\n",
    "\n",
    "**mGA** $^{[1]}$ is used to calculate couplings according to the $\\Gamma_Q/m_Q$ ratio.\n",
    "\n",
    "\n",
    "```python\n",
    "vlq.calcRatioKappas( BRs, Ratio )\n",
    "```\n",
    "\n",
    "* Ratio is $\\Gamma_Q/m_Q$ value."
   ]
  },
  {
   "cell_type": "code",
   "execution_count": 10,
   "id": "d97fe1dc-2b0c-4417-a07e-928841258b2e",
   "metadata": {},
   "outputs": [
    {
     "name": "stdout",
     "output_type": "stream",
     "text": [
      "\n",
      "mT [GeV]\tkH\tkW\tkZ\n",
      "1000\t\t1.612\t0.384\t0.402\n",
      "1200\t\t1.603\t0.32\t0.33\n",
      "1400\t\t1.598\t0.274\t0.281\n",
      "1600\t\t1.595\t0.24\t0.244\n",
      "1800\t\t1.593\t0.213\t0.216\n",
      "2000\t\t1.592\t0.192\t0.194\n"
     ]
    }
   ],
   "source": [
    "Mass = range(1000, 2001, 200)\n",
    "branchings = [0.25, 0.5, 0.25] # [BR(Hb), BR(Wt), BR(Zb)]\n",
    "GM = 0.1 # Gamma/Mass ratio\n",
    "\n",
    "vlq = model.VLQ('T')\n",
    "vlq.setMass(Mass)\n",
    "vlq.calcRatioKappas(branchings, GM)\n",
    "\n",
    "print('\\nmT [GeV]\\tkH\\tkW\\tkZ')\n",
    "for i in range(len(Mass)):\n",
    "    M = Mass[i]\n",
    "    kH = round(vlq.KappaH[i], 3)\n",
    "    kW = round(vlq.KappaW[i], 3)\n",
    "    kZ = round(vlq.KappaZ[i], 3)\n",
    "    print(f'{M}\\t\\t{kH}\\t{kW}\\t{kZ}')"
   ]
  },
  {
   "cell_type": "code",
   "execution_count": 11,
   "id": "e4713b95-199e-4f72-b0a3-d64e79ef150b",
   "metadata": {},
   "outputs": [
    {
     "name": "stdout",
     "output_type": "stream",
     "text": [
      "\n",
      "mT [GeV]\tGamma [GeV]\tBR(Hb)\tBR(Wt)\tBR(Zb)\n",
      "1000\t\t100.0\t\t0.25\t0.5\t0.25\n",
      "1200\t\t120.0\t\t0.25\t0.5\t0.25\n",
      "1400\t\t140.0\t\t0.25\t0.5\t0.25\n",
      "1600\t\t160.0\t\t0.25\t0.5\t0.25\n",
      "1800\t\t180.0\t\t0.25\t0.5\t0.25\n",
      "2000\t\t200.0\t\t0.25\t0.5\t0.25\n"
     ]
    }
   ],
   "source": [
    "print('\\nmT [GeV]\\tGamma [GeV]\\tBR(Hb)\\tBR(Wt)\\tBR(Zb)')\n",
    "for i in range(len(Mass)):\n",
    "    kappas = [vlq.KappaH[i], vlq.KappaW[i], vlq.KappaZ[i]]\n",
    "    decayH, decayW, decayZ, Gamma = vlq.calcDecay( Mass[i], kappas )\n",
    "    BRH = round(decayH/Gamma, 2)\n",
    "    BRW = round(decayW/Gamma, 2)\n",
    "    BRZ = round(decayZ/Gamma, 2)\n",
    "    Gamma = round(Gamma, 2)\n",
    "    print(f'{Mass[i]}\\t\\t{Gamma}\\t\\t{BRH}\\t{BRW}\\t{BRZ}')\n",
    "    "
   ]
  },
  {
   "attachments": {},
   "cell_type": "markdown",
   "id": "9d3e5f5a-e7a5-46ca-8e60-428f92d4694a",
   "metadata": {},
   "source": [
    "<br><br>\n",
    "\n",
    "**VLQ_UFO** couplings can also be obtained after model conversion. "
   ]
  },
  {
   "cell_type": "code",
   "execution_count": 12,
   "id": "04ca144d-2ea6-47f2-a9d5-f3076abc492c",
   "metadata": {},
   "outputs": [
    {
     "name": "stdout",
     "output_type": "stream",
     "text": [
      "mB [GeV]\tkB\n",
      "1000\t\t0.56\n",
      "1200\t\t0.46\n",
      "1400\t\t0.39\n",
      "1600\t\t0.34\n",
      "1800\t\t0.31\n",
      "2000\t\t0.27\n",
      "\n"
     ]
    }
   ],
   "source": [
    "Mass = range(1000, 2001, 200)\n",
    "branchings = [0.25, 0.5, 0.25] # [BR(Hb), BR(Wt), BR(Zb)]\n",
    "GM = 0.1 # Gamma/Mass ratio\n",
    "\n",
    "vlq = model.VLQ('T')\n",
    "vlq.setMass(Mass)\n",
    "vlq.calcRatioKappas(branchings, GM)\n",
    "\n",
    "newKappas = [vlq.KappaH, vlq.KappaW, vlq.KappaZ]\n",
    "vlq.convertModel(newKappas, branchings, reverse=True)  # converts kappas VLQ_v4_UFO to VLQ_UFO\n",
    "\n",
    "print('mB [GeV]\\tkB')\n",
    "for i in range(len(Mass)):\n",
    "    M = Mass[i]\n",
    "    kB = round(vlq.KappaOld[i], 2)\n",
    "    print(f'{M}\\t\\t{kB}')\n",
    "print()"
   ]
  },
  {
   "cell_type": "markdown",
   "id": "d36aa5f4-f9e9-415a-9466-a846eedbc206",
   "metadata": {},
   "source": [
    "<br>\n",
    "\n",
    "### MG5 object\n",
    "\n",
    "To generate a MadGraph5$^{[4]}$ input card, it is necessary to first create an `mg5` object from the `madgraph` sub-module."
   ]
  },
  {
   "cell_type": "code",
   "execution_count": 13,
   "id": "8a40c2ee-1aec-4c77-b702-03d441ca6ad0",
   "metadata": {},
   "outputs": [],
   "source": [
    "import VLQcalc.madgraph as madgraph"
   ]
  },
  {
   "cell_type": "markdown",
   "id": "f82f59ac-4758-4a74-8724-0170cace3663",
   "metadata": {},
   "source": [
    "```python\n",
    "mg5 = madgraph.MG5(VLQ_object, model)\n",
    "```\n",
    "* `model` parameter can be VLQ_UFO or VLQ_v4_UFO in string format."
   ]
  },
  {
   "cell_type": "code",
   "execution_count": 14,
   "id": "2ad23e0c-b434-4871-add8-3d0a4a3acad6",
   "metadata": {},
   "outputs": [],
   "source": [
    "mg5 = madgraph.MG5(vlq, 'VLQ_v4_UFO')"
   ]
  },
  {
   "cell_type": "markdown",
   "id": "c37336b8-1a4e-4c7c-9535-46a05b0cac82",
   "metadata": {},
   "source": [
    "<br>\n",
    "\n",
    "In the MG5 object, there are two different methods for entering a process: `setProcess` and `addProcess` methods, which take their parameters as strings, are used respectively to define the main process and additional processes.\n",
    "\n",
    "```python\n",
    "mg5.setProcess( process )\n",
    "mg5.addProcess( process )\n",
    "```\n",
    "\n",
    "\n",
    "MG5 object also have the properties in string format listed in the below:\n",
    "\n",
    "\n",
    "| Property | Values | Default Value |\n",
    "|-|-|:-:|\n",
    "|shower|OFF, pythia8, ...|OFF|\n",
    "|detector|OFF, Delphes, ...|OFF|\n",
    "|analysis|OFF, ExRoot, MadAnalysis, ...|OFF|\n",
    "|madspin|OFF, ON, onshell, full|OFF|\n",
    "|reweight|OFF, ON|OFF|\n",
    "\n",
    "\n",
    "<br>\n",
    "\n",
    "`addInput` method, which takes a string parameter, is used to define inputs that allow modifications to be made on simulation cards. After all definitions have been made, an MG5 input card can be generated using the `createMG5Input` method, which takes the output file name (in string format) as a parameter.\n",
    "```python\n",
    "mg5.addInput( input )\n",
    "mg5.createMG5Input( file_name )\n",
    "```\n",
    "\n",
    "<br>\n",
    "\n",
    "When creating an input card, the processes defined in `setProcess` and `addProcess` are expanded to include both particles and antiparticles. For example, when we consider $p\\ p \\rightarrow W^{+}\\ e^{-} \\bar{v}_{e}$ process, the expanded definition to be written in the input card will be as follows:\n",
    "\n",
    "    define WW = w+ w-\n",
    "    define ee = e+ e-\n",
    "    define veve = ve ve~\n",
    "    generate p p > WW ee veve\n",
    "\n",
    "This ensures the most accurate event production statistically."
   ]
  },
  {
   "cell_type": "code",
   "execution_count": 15,
   "id": "4570e4c3-5ca9-4cf6-a401-546c6b4b0fc7",
   "metadata": {},
   "outputs": [
    {
     "name": "stdout",
     "output_type": "stream",
     "text": [
      "\n",
      "mg5_input_card.dat is created!\n",
      "\n"
     ]
    }
   ],
   "source": [
    "mg5 = madgraph.MG5(vlq,'VLQ_v4_UFO')\n",
    "\n",
    "mg5.setProcess('p p > bp j, (bp > w- t, t > w+ b)')\n",
    "mg5.addProcess('p p > bp j b, (bp > w- t, t > w+ b)')\n",
    "\n",
    "mg5.shower = 'Pythia8'\n",
    "mg5.detector = 'Delphes'\n",
    "\n",
    "mg5.addInput('Nevents 1000') # inputs for cards\n",
    "\n",
    "mg5.createMG5Input('mg5_input_card') # name of input file"
   ]
  },
  {
   "cell_type": "markdown",
   "id": "22dd5c9f-0f34-4e44-bc3d-1ace03b44166",
   "metadata": {},
   "source": [
    "\n",
    "---\n",
    "\n",
    "## Saving couplings"
   ]
  },
  {
   "cell_type": "code",
   "execution_count": 16,
   "id": "01ffcc79-705e-4870-915c-3f40b657fe48",
   "metadata": {},
   "outputs": [],
   "source": [
    "vlq = model.VLQ('B')\n",
    "vlq.setMass( range(1000, 2001, 100) )\n",
    "vlq.calcRatioKappas([0.25, 0.5, 0.25], 0.1)\n",
    "\n",
    "output_file = open('kappa_results.txt', 'w')\n",
    "output_file.writelines( [f'VLQ type: B\\n',\n",
    "                         f'Branchings:\\n',\n",
    "                         f'  BR(Hb)={vlq.BRs[0]}\\n',\n",
    "                         f'  BR(Wt)={vlq.BRs[1]}\\n',\n",
    "                         f'  BR(Zb)={vlq.BRs[2]}\\n',\n",
    "                         '_____________\\n\\n'])\n",
    "\n",
    "for i in range(len(vlq.Mass)):\n",
    "    output_file.writelines( [f'{vlq.Mass[i]} GeV\\n',\n",
    "                             f'\\tkH = {round(vlq.KappaH[i], 4)}\\n',\n",
    "                             f'\\tkW = {round(vlq.KappaW[i], 4)}\\n',\n",
    "                             f'\\tkZ = {round(vlq.KappaZ[i], 4)}\\n\\n'])\n",
    "output_file.close()"
   ]
  },
  {
   "cell_type": "markdown",
   "id": "13257cf0-0dcd-496e-acc4-a6b125f65c71",
   "metadata": {},
   "source": [
    "\n",
    "---\n",
    "\n",
    "## Plotting couplings"
   ]
  },
  {
   "cell_type": "code",
   "execution_count": 17,
   "id": "a559bd28-e973-45b2-baa8-9a313e9624ee",
   "metadata": {},
   "outputs": [
    {
     "data": {
      "image/png": "[encoded data removed]",
      "text/plain": [
       "<Figure size 640x480 with 1 Axes>"
      ]
     },
     "metadata": {},
     "output_type": "display_data"
    }
   ],
   "source": [
    "import matplotlib.pyplot as plt\n",
    "\n",
    "vlq = model.VLQ('B')\n",
    "vlq.setMass( range(1000, 2001, 100) )\n",
    "vlq.calcRatioKappas([0.25, 0.5, 0.25], 0.1)\n",
    "\n",
    "plt.plot(vlq.Mass, vlq.KappaW, '-b', label='$\\kappa_{W}$')\n",
    "plt.plot(vlq.Mass, vlq.KappaH, '-.g', label='$\\kappa_{H}$')\n",
    "plt.plot(vlq.Mass, vlq.KappaZ, '--r', label='$\\kappa_{Z}$')\n",
    "plt.legend()\n",
    "plt.xlabel('$\\mathbf{m_{B}}$ [GeV]', horizontalalignment='right', x=1.0, weight='bold')\n",
    "plt.ylabel('$\\mathbf{\\kappa}$', horizontalalignment='right', y=1.0, weight='bold')\n",
    "plt.xlim([min(vlq.Mass),max(vlq.Mass)])\n",
    "plt.grid()\n",
    "# plt.savefig('kappa_plot.png',dpi=720)\n",
    "plt.show()"
   ]
  },
  {
   "cell_type": "markdown",
   "id": "7429eb4b-481e-4d7b-9580-79f46243d94f",
   "metadata": {},
   "source": [
    "<br>\n",
    "\n",
    "___\n",
    "\n",
    "### References\n",
    "\n",
    "1. Canbay, A. C. modifiedGA (Version 0.1.0) [Computer software]. [DOI: 10.5281/zenodo.12569505](https://doi.org/10.5281/zenodo.12569505), [GitHub: acanbay/modifiedGA](https://github.com/acanbay/modifiedGA)\n",
    "2. M. Buchkremer, G. Cacciapaglia, A. Deandrea, and L. Panizzi. Model-independent framework for searches of top partners. *Nuclear Physics B*, 876(2):376–417, 2013.\n",
    "3. B. Fuks and H. S. Shao. QCD next-to-leading-order predictions matched to parton showers for vector-like quark models. *The European Physical Journal C*, 77(2):1–21, 2017.\n",
    "4. J. Alwall, M. Herquet, F. Maltoni, O. Mattelaer, and T. Stelzer. Madgraph 5: going beyond. *Journal of High Energy Physics*, 2011(6):1–40, 2011."
   ]
  }
 ],
 "metadata": {
  "kernelspec": {
   "display_name": "Python 3 (ipykernel)",
   "language": "python",
   "name": "python3"
  },
  "language_info": {
   "codemirror_mode": {
    "name": "ipython",
    "version": 3
   },
   "file_extension": ".py",
   "mimetype": "text/x-python",
   "name": "python",
   "nbconvert_exporter": "python",
   "pygments_lexer": "ipython3",
   "version": "3.9.0"
  }
 },
 "nbformat": 4,
 "nbformat_minor": 5
}
